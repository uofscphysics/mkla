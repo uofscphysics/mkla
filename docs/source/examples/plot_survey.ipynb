{
  "cells": [
    {
      "cell_type": "code",
      "execution_count": null,
      "metadata": {
        "collapsed": false
      },
      "outputs": [],
      "source": [
        "%matplotlib inline"
      ]
    },
    {
      "cell_type": "markdown",
      "metadata": {},
      "source": [
        "\n# Constrain Cosmology\n\n\nSimulate cosmological constraints\nfrom a sample of lensed SN.\n\n"
      ]
    },
    {
      "cell_type": "markdown",
      "metadata": {},
      "source": [
        "All of these cosmology tools are based on `Coe & Moustakas 2009 <https://arxiv.org/pdf/0906.4108.pdf>`_.\nand Dan Coe's `Fisher matrix starter paper <https://arxiv.org/pdf/0906.4123.pdf>`_.\n\n**Creating a Survey**\n\n"
      ]
    },
    {
      "cell_type": "code",
      "execution_count": null,
      "metadata": {
        "collapsed": false
      },
      "outputs": [],
      "source": [
        "import sntd\nimport numpy as np"
      ]
    },
    {
      "cell_type": "markdown",
      "metadata": {},
      "source": [
        "Start by defining your survey parameters. In this case we have a survey called \"Test Survey\" with\n10 lenses with normally distributed lens and source redshifts,\n5% lens model uncertainty and 2% time delay uncertainty.\n\n"
      ]
    },
    {
      "cell_type": "code",
      "execution_count": null,
      "metadata": {
        "collapsed": false
      },
      "outputs": [],
      "source": [
        "np.random.seed(3)\n\nmy_survey=sntd.Survey(dTl=5,dTT=2,zl=np.random.normal(.5,.1,size=10),zs=np.random.normal(1.6,.2,size=10),name='Test Survey')"
      ]
    },
    {
      "cell_type": "markdown",
      "metadata": {},
      "source": [
        "**Gridded Parameter Search**\n\nThis will make a smooth contour plot for 2 parameters.\n\n"
      ]
    },
    {
      "cell_type": "code",
      "execution_count": null,
      "metadata": {
        "collapsed": false
      },
      "outputs": [],
      "source": [
        "my_survey.survey_grid(vparam_names=['h','Ode0'],\n                      bounds={'h':[.65,.75],'Ode0':[0,1]},npoints=50)\n\nmy_survey.plot_survey_contour(['h','Ode0'],math_labels=[r'$h$',r'$\\Omega_\\lambda$'],confidence=[.68,.95],alphas=[.9,.4],show_legend=True)"
      ]
    },
    {
      "cell_type": "markdown",
      "metadata": {},
      "source": [
        "**MCMC-Like Parameter Search**\n\n"
      ]
    },
    {
      "cell_type": "code",
      "execution_count": null,
      "metadata": {
        "collapsed": false
      },
      "outputs": [],
      "source": [
        "my_survey.survey_nestle(vparam_names=['h','Ode0'],\n                      bounds={'h':[.65,.75],'Ode0':[0,1]},npoints=200)\n\nmy_survey.plot_survey_contour(['h','Ode0'],math_labels=[r'$h$',r'$\\Omega_\\lambda$'],filled=False)"
      ]
    },
    {
      "cell_type": "markdown",
      "metadata": {},
      "source": [
        "**Fisher Matrix Analysis**\n\nThis will make a 5x5 fisher matrix with the given parameters\n\n"
      ]
    },
    {
      "cell_type": "code",
      "execution_count": null,
      "metadata": {
        "collapsed": false
      },
      "outputs": [],
      "source": [
        "my_survey.survey_fisher(['h','Ode0','Om0','w0','wa'])"
      ]
    },
    {
      "cell_type": "markdown",
      "metadata": {},
      "source": [
        "Add a prior that assumes perfect knowledge of all other parameters\n\n"
      ]
    },
    {
      "cell_type": "code",
      "execution_count": null,
      "metadata": {
        "collapsed": false
      },
      "outputs": [],
      "source": [
        "my_survey.fisher_matrix.prior('Om0',0.0001)\nmy_survey.fisher_matrix.prior('Ode0',0.0001)\nmy_survey.fisher_matrix.prior('h',0.0001)\nmy_survey.fisher_matrix.plot('w0','wa',x_limits=[-1.7,-.3],y_limits=[-4,4])"
      ]
    }
  ],
  "metadata": {
    "kernelspec": {
      "display_name": "Python 3",
      "language": "python",
      "name": "python3"
    },
    "language_info": {
      "codemirror_mode": {
        "name": "ipython",
        "version": 3
      },
      "file_extension": ".py",
      "mimetype": "text/x-python",
      "name": "python",
      "nbconvert_exporter": "python",
      "pygments_lexer": "ipython3",
      "version": "3.6.8"
    }
  },
  "nbformat": 4,
  "nbformat_minor": 0
}