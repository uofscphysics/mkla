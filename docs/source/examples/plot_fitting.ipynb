{
  "cells": [
    {
      "cell_type": "code",
      "execution_count": null,
      "metadata": {
        "collapsed": false
      },
      "outputs": [],
      "source": [
        "%matplotlib inline"
      ]
    },
    {
      "cell_type": "markdown",
      "metadata": {},
      "source": [
        "\n# Measure Time Delays\n\n\nA series of examples demonstrating various fitting options \nwith SNTD.\n\n"
      ]
    },
    {
      "cell_type": "markdown",
      "metadata": {},
      "source": [
        "There are 3 methods built into SNTD to measure time delays \n(parallel, series, color). They are accessed by the same \nfunction: :py:func:`~sntd.fitting.fit_data` . \nHere ``myMISN`` was generated in the `examples/plot_sim:Simulating Supernovae` part \nof the documentation, using the :py:func:`~sntd.simulation.createMultiplyImagedSN` \nfunction. The true delay for all of these fits is 50 days.\nYou can batch process using any or all of these methods as well \n(see `examples:Batch Processing Time Delay Measurements`)\n\n**Parallel:**\n\n"
      ]
    },
    {
      "cell_type": "code",
      "execution_count": null,
      "metadata": {
        "collapsed": false
      },
      "outputs": [],
      "source": [
        "import sntd\n\nmyMISN=sntd.load_example_misn()\n\nfitCurves=sntd.fit_data(myMISN,snType='Ia', models='salt2-extended',bands=['F110W','F160W'],\n                params=['x0','t0','x1','c'],constants={'z':1.4},refImage='image_1',cut_time=[-50,30],\n                bounds={'t0':(-20,20),'x1':(-3,3),'c':(-.5,.5),'mu':(.5,2)},fitOrder=['image_2','image_1'],\n                method='parallel',microlensing=None,modelcov=False,npoints=100)\nprint(fitCurves.parallel.time_delays)\nprint(fitCurves.parallel.time_delay_errors)\nprint(fitCurves.parallel.magnifications)\nprint(fitCurves.parallel.magnification_errors)\nfitCurves.plot_object(showFit=True,method='parallel')\nfitCurves.plot_fit(method='parallel',par_image='image_1')\nfitCurves.plot_fit(method='parallel',par_image='image_2')"
      ]
    },
    {
      "cell_type": "markdown",
      "metadata": {},
      "source": [
        "Note that the bounds for the 't0' parameter are not absolute, the actual peak time will be estimated (unless t0_guess is defined)\nand the defined bounds will be added to this value. Similarly for amplitude, where bounds are multiplicative\n\nOther methods are called in a similar fashion, with a couple of extra arguments:\n\n**Series:**\n\n"
      ]
    },
    {
      "cell_type": "code",
      "execution_count": null,
      "metadata": {
        "collapsed": false
      },
      "outputs": [],
      "source": [
        "fitCurves=sntd.fit_data(myMISN,snType='Ia', models='salt2-extended',bands=['F110W','F160W'],\n        params=['x0','t0','x1','c'],constants={'z':1.4},refImage='image_1',cut_time=[-50,30],\n        bounds={'t0':(-20,20),'td':(-20,20),'mu':(.5,2),'x1':(-3,3),'c':(-.5,.5)},\n        method='series',npoints=100)\n        \n\nprint(fitCurves.series.time_delays)\nprint(fitCurves.series.time_delay_errors)\nprint(fitCurves.series.magnifications)\nprint(fitCurves.series.magnification_errors)\nfitCurves.plot_object(showFit=True,method='series')\nfitCurves.plot_fit(method='series')"
      ]
    },
    {
      "cell_type": "markdown",
      "metadata": {},
      "source": [
        "**Color:**\nBy default, this will attempt to fit every combination of colors possible from\nthe bands present in the data. You can define specific colors using the \"fit_colors\"\nargument.\n\n"
      ]
    },
    {
      "cell_type": "code",
      "execution_count": null,
      "metadata": {
        "collapsed": false
      },
      "outputs": [],
      "source": [
        "fitCurves=sntd.fit_data(myMISN,snType='Ia', models='salt2-extended',bands=['F110W','F160W'],\n                    params=['t0','c'],constants={'z':1.4,'x1':fitCurves.images['image_1'].fits.model.get('x1')},refImage='image_1',\n                    color_param_ignore=['x1'],bounds={'t0':(-20,20),'td':(-20,20),'mu':(.5,2),'c':(-.5,.5)},cut_time=[-50,30],\n                    method='color',microlensing=None,modelcov=False,npoints=200,maxiter=None,minsnr=3)\n\nprint(fitCurves.color.time_delays)\nprint(fitCurves.color.time_delay_errors)\nfitCurves.plot_object(showFit=True,method='color')\nfitCurves.plot_fit(method='color')"
      ]
    },
    {
      "cell_type": "markdown",
      "metadata": {},
      "source": [
        "You can include your fit from the parallel method as a prior on light curve and time delay parameters in the series/color methods with the \"fit_prior\" command:\n\n"
      ]
    },
    {
      "cell_type": "code",
      "execution_count": null,
      "metadata": {
        "collapsed": false
      },
      "outputs": [],
      "source": [
        "fitCurves_parallel=sntd.fit_data(myMISN,snType='Ia', models='salt2-extended',bands=['F110W','F160W'],\n                \tparams=['x0','t0','x1','c'],constants={'z':1.4},refImage='image_1',\n                \tbounds={'t0':(-20,20),'x1':(-3,3),'c':(-.5,.5),'mu':(.5,2)},fitOrder=['image_2','image_1'],cut_time=[-50,30],\n               \t    method='parallel',microlensing=None,modelcov=False,npoints=100,maxiter=None)\nfitCurves_color=sntd.fit_data(myMISN,snType='Ia', models='salt2-extended',bands=['F110W','F160W'],cut_time=[-50,30],\n                \tparams=['t0','c'],constants={'z':1.4,'x1':fitCurves.images['image_1'].fits.model.get('x1')},refImage='image_1',\n                \tbounds={'t0':(-20,20),'td':(-20,20),'mu':(.5,2),'c':(-.5,.5)},fit_prior=fitCurves_parallel,\n                \tmethod='color',microlensing=None,modelcov=False,npoints=200,maxiter=None,minsnr=3)\n\nprint(fitCurves_parallel.parallel.time_delays)\nprint(fitCurves_parallel.parallel.time_delay_errors)\nprint(fitCurves_color.color.time_delays)\nprint(fitCurves_color.color.time_delay_errors)"
      ]
    },
    {
      "cell_type": "markdown",
      "metadata": {},
      "source": [
        "**Fitting Using Extra Propagation Effects**\n\nYou might also want to include other propagation effects in your fitting model, and fit relevant parameters. This can be done by\nsimply adding effects to an SNCosmo model, in the same way as if you were fitting a single SN with SNCosmo. First we can add some\nextreme dust in the source and lens frames (your final simulations may look slightly different as **c** is chosen randomly):\n\n"
      ]
    },
    {
      "cell_type": "code",
      "execution_count": null,
      "metadata": {
        "collapsed": false
      },
      "outputs": [],
      "source": [
        "myMISN2 = sntd.createMultiplyImagedSN(sourcename='salt2-extended', snType='Ia', redshift=1.4,z_lens=.53, bands=['F110W','F160W'],\n              zp=[26.9,26.2], cadence=5., epochs=35.,time_delays=[10., 70.], magnifications=[20,10],\n              objectName='My Type Ia SN',telescopename='HST',av_lens=1.5,\n              av_host=1)\nprint('lensebv:',myMISN2.images['image_1'].simMeta['lensebv'],\n     'hostebv:',myMISN2.images['image_1'].simMeta['hostebv'], \n     'c:',myMISN2.images['image_1'].simMeta['c'])"
      ]
    },
    {
      "cell_type": "markdown",
      "metadata": {},
      "source": [
        "Okay, now we can fit the MISN first without taking these effects into account:\n\n"
      ]
    },
    {
      "cell_type": "code",
      "execution_count": null,
      "metadata": {
        "collapsed": false
      },
      "outputs": [],
      "source": [
        "fitCurves_dust=sntd.fit_data(myMISN2,snType='Ia', models='salt2-extended',bands=['F110W','F160W'],\n                                                     params=['x0','x1','t0','c'],npoints=200,\n                                                     constants={'z':1.4},minsnr=1,cut_time=[-50,30],\n                                                     bounds={'t0':(-15,15),'x1':(-3,3),'c':(-.3,.3)})\nprint(fitCurves_dust.parallel.time_delays)\nprint(fitCurves_dust.parallel.time_delay_errors)\nprint('c:',fitCurves_dust.images['image_1'].fits.model.get('c'))\nfitCurves_dust.plot_object(showFit=True)"
      ]
    },
    {
      "cell_type": "markdown",
      "metadata": {},
      "source": [
        "We can see that the fitter has done reasonably well, and the time delay is still accurate (True delay is 60 days). \nHowever, one issue is that the measured value for **c** is vastly different than the actual value \nas it attempts to compensate for extinction without a propagation effect. Now let's add in the propagation effects:\n\n"
      ]
    },
    {
      "cell_type": "code",
      "execution_count": null,
      "metadata": {
        "collapsed": false
      },
      "outputs": [],
      "source": [
        "import sncosmo\ndust = sncosmo.CCM89Dust()\nsalt2_model=sncosmo.Model('salt2-extended',effects=[dust,dust],effect_names=['lens','host'],effect_frames=['free','rest'])\nfitCurves_dust=sntd.fit_data(myMISN2,snType='Ia', models=salt2_model,bands=['F110W','F160W'],npoints=200,\n                    params=['x0','x1','t0','c','lensebv','hostebv'],minsnr=1,cut_time=[-50,30],\n                    constants={'z':1.4,'lensr_v':3.1,'lensz':0.53,'hostr_v':3.1},\n                    bounds={'t0':(-15,15),'x1':(-3,3),'c':(-.3,.3),'lensebv':(0,1.),'hostebv':(0,1.)})\n\nprint(fitCurves_dust.parallel.time_delays)\nprint(fitCurves_dust.parallel.time_delay_errors)\nprint('c:',fitCurves_dust.images['image_1'].fits.model.get('c'),\n      'lensebv:',fitCurves_dust.images['image_1'].fits.model.get('lensebv'),\n      'hostebv:',fitCurves_dust.images['image_1'].fits.model.get('hostebv'))\nfitCurves_dust.plot_object(showFit=True)"
      ]
    },
    {
      "cell_type": "markdown",
      "metadata": {},
      "source": [
        "Now the measured value for **c** is much closer to reality, and the measured times of peak are somewhat\nmore accurate. \n\n"
      ]
    }
  ],
  "metadata": {
    "kernelspec": {
      "display_name": "Python 3",
      "language": "python",
      "name": "python3"
    },
    "language_info": {
      "codemirror_mode": {
        "name": "ipython",
        "version": 3
      },
      "file_extension": ".py",
      "mimetype": "text/x-python",
      "name": "python",
      "nbconvert_exporter": "python",
      "pygments_lexer": "ipython3",
      "version": "3.6.8"
    }
  },
  "nbformat": 4,
  "nbformat_minor": 0
}