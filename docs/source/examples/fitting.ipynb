{
  "cells": [
    {
      "cell_type": "code",
      "execution_count": null,
      "metadata": {
        "collapsed": false
      },
      "outputs": [],
      "source": [
        "%matplotlib inline"
      ]
    },
    {
      "cell_type": "markdown",
      "metadata": {},
      "source": [
        "\n# Measuring Time Delays\n\n\nThere are 3 methods built into SNTD to measure time delays \n(parallel, series, color). They are accessed by the same \nfunction:`~sntd.fit_data`. Here ``myMISN`` could be generated\nin the simulation example of the documentation.\n\n"
      ]
    },
    {
      "cell_type": "markdown",
      "metadata": {},
      "source": [
        "**Parallel:**\n\n"
      ]
    },
    {
      "cell_type": "code",
      "execution_count": null,
      "metadata": {
        "collapsed": false
      },
      "outputs": [],
      "source": [
        "import sntd\n\nex_1,ex_2=sntd.load_example_data()\nmyMISN=sntd.table_factory([ex_1,ex_2],telescopename='HST',object_name='example_SN')\n\nfitCurves=sntd.fit_data(myMISN,snType='Ia', models='salt2-extended',bands=['F110W','F160W'],\n                params=['x0','t0','x1','c'],constants={'z':1.2},refImage='image_1',\n                bounds={'t0':(-20,20),'x1':(-3,3),'c':(-1,1),'mu':(.5,2)},fitOrder=['image_2','image_1'],\n                method='parallel',microlensing=None,modelcov=False,npoints=500,maxiter=None)\nprint(fitCurves.parallel.time_delays)\nprint(fitCurves.parallel.time_delay_errors)\nprint(fitCurves.parallel.magnifications)\nprint(fitCurves.parallel.magnification_errors)\nfitCurves.plot_object(showFit=True,method='parallel')\nfitCurves.plot_fit(method='parallel')\nfitCurves.plot_fit(method='parallel')"
      ]
    },
    {
      "cell_type": "markdown",
      "metadata": {},
      "source": [
        "Note that the bounds for the 't0' parameter are not absolute, the actual peak time will be estimated (unless t0_guess is defined)\nand the defined bounds will be added to this value. Similarly for amplitude, where bounds are multiplicative\n\nOther methods are called in a similar fashion, with a couple of extra arguments:\n\n**Series:**\n\n"
      ]
    },
    {
      "cell_type": "code",
      "execution_count": null,
      "metadata": {
        "collapsed": false
      },
      "outputs": [],
      "source": [
        "fitCurves=sntd.fit_data(myMISN,snType='Ia', models='salt2-extended',bands=['F110W','F160W'],\n        params=['x1','c'],constants={'z':zs},refImage='image_1',\n        bounds={'td':(-20,20),'mu':(.5,2),'x1':(-3,3),'c':(-1,1)},\n        method='series',npoints=500)\n\n\nprint(fitCurves.series.time_delays)\nprint(fitCurves.series.time_delay_errors)\nprint(fitCurves.series.magnifications)\nprint(fitCurves.series.magnification_errors)\nfitCurves.plot_object(showFit=True,method='series')\nfitCurves.plot_fit(method='series')"
      ]
    },
    {
      "cell_type": "markdown",
      "metadata": {},
      "source": [
        "**Color:**\n\n"
      ]
    },
    {
      "cell_type": "code",
      "execution_count": null,
      "metadata": {
        "collapsed": false
      },
      "outputs": [],
      "source": [
        "fitCurves=sntd.fit_data(myMISN,snType='Ia', models='salt2-extended',bands=['F110W','F160W'],\n                    params=['c'],constants={'z':zs,'x1':fitCurves.images['image_1'].fits.model.get('x1')},refImage='image_1',\n                    bounds={'td':(-20,20),'mu':(.5,2),'x1':(-3,3),'c':(-1,1)},\n                    method='color',microlensing=None,modelcov=False,npoints=500,maxiter=None)\n\nprint(fitCurves.color.time_delays)\nprint(fitCurves.color.time_delay_errors)\nfitCurves.plot_object(showFit=True,method='color')\nfitCurves.plot_fit(method='color')"
      ]
    },
    {
      "cell_type": "markdown",
      "metadata": {},
      "source": [
        "You can include your fit from the parallel method as a prior on light curve and time delay parameters in the series/color methods with the \"fit_prior\" command:\n\n"
      ]
    },
    {
      "cell_type": "code",
      "execution_count": null,
      "metadata": {
        "collapsed": false
      },
      "outputs": [],
      "source": [
        "fitCurves_parallel=sntd.fit_data(myMISN,snType='Ia', models='salt2-extended',bands=['F110W','F160W'],\n                \tparams=['x0','t0','x1','c'],constants={'z':1.2},refImage='image_1',\n                \tbounds={'t0':(-20,20),'x1':(-3,3),'c':(-1,1),'mu':(.5,2)},fitOrder=['image_2','image_1'],\n               \t    method='parallel',microlensing=None,modelcov=False,npoints=500,maxiter=None)\nfitCurves_color=sntd.fit_data(myMISN,snType='Ia', models='salt2-extended',bands=['F110W','F160W'],\n                \tparams=['c'],constants={'z':zs,'x1':fitCurves.images['image_1'].fits.model.get('x1')},refImage='image_1',\n                \tbounds={'td':(-20,20),'mu':(.5,2),'x1':(-3,3),'c':(-1,1)},fit_prior=fitCurves_parallel,\n                \tmethod='color',microlensing=None,modelcov=False,npoints=500,maxiter=None)"
      ]
    },
    {
      "cell_type": "markdown",
      "metadata": {},
      "source": [
        "**Fitting Using Extra Propagation Effects**\n\nYou might also want to include other propagation effects in your fitting model, and fit relevant parameters. This can be done by\nsimply adding effects to an SNCosmo model, in the same way as if you were fitting a single SN with SNCosmo. First we can add some\nextreme dust in the source and lens frames (your final simulations may look slightly different as **c** is chosen randomly):\n\n"
      ]
    },
    {
      "cell_type": "code",
      "execution_count": null,
      "metadata": {
        "collapsed": false
      },
      "outputs": [],
      "source": [
        "myMISN2 = sntd.createMultiplyImagedSN(sourcename='salt2', snType='Ia', redshift=1.45,z_lens=.53, bands=['F110W','F160W'],\n              zp=[26.9,26.2], cadence=5., epochs=35.,time_delays=[10., 70.], magnifications=[10,5],\n              objectName='My Type Ia SN',telescopename='HST',av_lens=1.5,\n              av_host=1)\nprint(myMISN2.images['image_1'].simMeta['lensebv'],\n     myMISN2.images['image_1'].simMeta['hostebv'], \n     myMISN2.images['image_1'].simMeta['c'])"
      ]
    },
    {
      "cell_type": "markdown",
      "metadata": {},
      "source": [
        "Okay, now we can fit the MISN first without taking these effects into account:\n\n"
      ]
    },
    {
      "cell_type": "code",
      "execution_count": null,
      "metadata": {
        "collapsed": false
      },
      "outputs": [],
      "source": [
        "fitCurves=sntd.fit_data(myMISN2,snType='Ia', models='salt2',bands=['F110W','F160W'],\n                                                     params=['x0','x1','t0','c'],\n                                                     constants={'z':1.45},\n                                                     bounds={'t0':(-15,15),'x1':(-2,2),'c':(-1,1)},\n                                                     showPlots=True)"
      ]
    },
    {
      "cell_type": "markdown",
      "metadata": {},
      "source": [
        "We can see that the fitter has done reasonably well, and the time delay is still accurate (True delay is 60 days). \nHowever, one issue is that the measured value for **c** (0.805) is vastly different than the actual value (0.098) \nas it attempts to compensate for extinction without a propagation effect. Now let's add in the propagation effects:\n\n"
      ]
    },
    {
      "cell_type": "code",
      "execution_count": null,
      "metadata": {
        "collapsed": false
      },
      "outputs": [],
      "source": [
        "dust = sncosmo.CCM89Dust()\nsalt2_model=sncosmo.Model('salt2',effects=[dust,dust],effect_names=['lens','host'],effect_frames=['free','rest'])\nfitCurves=sntd.fit_data(myMISN2,snType='Ia', models=salt2_model,bands=['F110W','F160W'],\n                    params=['x0','x1','t0','c','lensebv','hostebv'],\n                    constants={'z':1.45,'lensr_v':3.1,'lensz':0.53,'hostr_v':3.1},\n                    bounds={'t0':(-15,15),'x1':(-2,2),'c':(-1,1),'lensebv':(0,1.),'hostebv':(0,1.)},\n                    showPlots=True)"
      ]
    },
    {
      "cell_type": "markdown",
      "metadata": {},
      "source": [
        "Now the measured value for **c** (0.057) is much closer to reality, and the measured times of peak are somewhat\nmore accurate. \n\n"
      ]
    }
  ],
  "metadata": {
    "kernelspec": {
      "display_name": "Python 3",
      "language": "python",
      "name": "python3"
    },
    "language_info": {
      "codemirror_mode": {
        "name": "ipython",
        "version": 3
      },
      "file_extension": ".py",
      "mimetype": "text/x-python",
      "name": "python",
      "nbconvert_exporter": "python",
      "pygments_lexer": "ipython3",
      "version": "3.6.8"
    }
  },
  "nbformat": 4,
  "nbformat_minor": 0
}