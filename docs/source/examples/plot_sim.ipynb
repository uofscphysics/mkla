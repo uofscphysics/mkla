{
  "cells": [
    {
      "cell_type": "code",
      "execution_count": null,
      "metadata": {
        "collapsed": false
      },
      "outputs": [],
      "source": [
        "%matplotlib inline"
      ]
    },
    {
      "cell_type": "markdown",
      "metadata": {},
      "source": [
        "\n# Simulate Supernovae\n\n\nSimulating a multiply-imaged supernova.\n\n"
      ]
    },
    {
      "cell_type": "markdown",
      "metadata": {},
      "source": [
        "Create a simulated multiply-imaged supernova that we can then fit,\nwith no microlensing included in the simulation. Note that your final\nprinted information will be different, as this is a randomly generated\nsupernova. The function being used in these examples is \n:py:func:`~sntd.simulation.createMultiplyImagedSN` . \n\n**No Microlensing**\n\n"
      ]
    },
    {
      "cell_type": "code",
      "execution_count": null,
      "metadata": {
        "collapsed": false
      },
      "outputs": [],
      "source": [
        "import sntd\nimport numpy as np\n\nmyMISN = sntd.createMultiplyImagedSN(sourcename='salt2-extended', snType='Ia', redshift=1.4,z_lens=.53, bands=['F110W','F160W'],\n             zp=[26.8,26.2], cadence=5., epochs=35.,time_delays=[20., 70.], magnifications=[10,5],\n objectName='My Type Ia SN',telescopename='HST',av_host=False)\nprint(myMISN)\nmyMISN.plot_object()"
      ]
    },
    {
      "cell_type": "markdown",
      "metadata": {},
      "source": [
        "Specify the distributions you want to use for any model\nparameter by providing a function that returns the parameter\nin any way you want. \n\n"
      ]
    },
    {
      "cell_type": "code",
      "execution_count": null,
      "metadata": {
        "collapsed": false
      },
      "outputs": [],
      "source": [
        "def x1_func():\n    return(np.random.normal(1,.5))\ndef c_func():\n    return(np.random.normal(-.05,.02))\nparam_funcs={'x1':x1_func,'c':c_func}\nmyMISN2 = sntd.createMultiplyImagedSN(sourcename='salt2-extended', snType='Ia', redshift=1.33,z_lens=.53, bands=['F110W','F125W'],\n              zp=[26.8,26.2], cadence=5., epochs=35.,time_delays=[10., 70.], magnifications=[7,3.5],\n              objectName='My Type Ia SN',telescopename='HST',sn_params=param_funcs)\nprint(myMISN2)\nmyMISN2.plot_object()"
      ]
    },
    {
      "cell_type": "markdown",
      "metadata": {},
      "source": [
        "Specify the distributions you want to use for dust\nparameters by providing a function that returns the parameter\nin any way you want. \n\n"
      ]
    },
    {
      "cell_type": "code",
      "execution_count": null,
      "metadata": {
        "collapsed": false
      },
      "outputs": [],
      "source": [
        "def hostav_func():\n    return(np.random.normal(.5,.1))\ndef lensav_func():\n    return(np.random.normal(.7,.2))\nparam_funcs={'host':hostav_func,'lens':lensav_func}\nmyMISN3 = sntd.createMultiplyImagedSN(sourcename='salt2-extended', snType='Ia', redshift=1.33,z_lens=.53, bands=['F110W','F125W'],\n              zp=[26.8,26.2], cadence=5., epochs=35.,time_delays=[10., 70.], magnifications=[7,3.5],\n              objectName='My Type Ia SN',telescopename='HST',av_dists=param_funcs)\nprint(myMISN3)\nmyMISN3.plot_object()"
      ]
    }
  ],
  "metadata": {
    "kernelspec": {
      "display_name": "Python 3",
      "language": "python",
      "name": "python3"
    },
    "language_info": {
      "codemirror_mode": {
        "name": "ipython",
        "version": 3
      },
      "file_extension": ".py",
      "mimetype": "text/x-python",
      "name": "python",
      "nbconvert_exporter": "python",
      "pygments_lexer": "ipython3",
      "version": "3.6.8"
    }
  },
  "nbformat": 4,
  "nbformat_minor": 0
}